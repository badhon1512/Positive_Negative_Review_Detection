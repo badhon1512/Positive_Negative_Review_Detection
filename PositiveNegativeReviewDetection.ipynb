{
 "cells": [
  {
   "cell_type": "code",
   "execution_count": 255,
   "metadata": {},
   "outputs": [],
   "source": [
    "###REview class\n",
    "import random\n",
    "class Review:\n",
    "    def __init__(self,review,star):\n",
    "        self.review=review\n",
    "        self.star=star\n",
    "        self.class_name=self.get_class()\n",
    "    def get_class(self):\n",
    "        if self.star>=4:\n",
    "            return \"POSITIVE\"\n",
    "        elif self.star<=2:\n",
    "            return \"NEGATIVE\"\n",
    "        else:\n",
    "            return \"NEUTRAL\"\n",
    "\n",
    "def get_optimized_reviews(reviews):\n",
    "    negative=list(filter(lambda x:x.class_name==\"NEGATIVE\",reviews))\n",
    "    positive=list(filter(lambda x:x.class_name==\"POSITIVE\",reviews))\n",
    "    positive=positive[:len(negative)]\n",
    "    \n",
    "    return positive+negative\n",
    "    \n",
    "        \n",
    "    \n",
    "        \n",
    "    \n",
    "        "
   ]
  },
  {
   "cell_type": "code",
   "execution_count": 256,
   "metadata": {},
   "outputs": [
    {
     "data": {
      "text/plain": [
       "1288"
      ]
     },
     "execution_count": 256,
     "metadata": {},
     "output_type": "execute_result"
    }
   ],
   "source": [
    "###Data load\n",
    "\n",
    "import json\n",
    "file='Books_small.json'\n",
    "reviews=[]\n",
    "\n",
    "with open(file) as f:\n",
    "    for line in f:\n",
    "        review=json.loads(line);\n",
    "        reviews.append(Review(review['reviewText'],review['overall']))\n",
    "        \n",
    "reviews=get_optimized_reviews(reviews)\n",
    "len(reviews)\n"
   ]
  },
  {
   "cell_type": "code",
   "execution_count": 258,
   "metadata": {},
   "outputs": [],
   "source": [
    "###Data prepair\n",
    "\n",
    "from sklearn.model_selection import train_test_split\n",
    "training,test=train_test_split(reviews,test_size=.33)\n",
    "training\n",
    "\n",
    "train_X=[x.review for x in training]\n",
    "train_y=[y.class_name for y in training]\n",
    "test_X=[x.review for x in test]\n",
    "test_y=[y.class_name for y in test]"
   ]
  },
  {
   "cell_type": "code",
   "execution_count": null,
   "metadata": {},
   "outputs": [],
   "source": []
  },
  {
   "cell_type": "code",
   "execution_count": 259,
   "metadata": {},
   "outputs": [],
   "source": [
    "###Vectorization\n",
    "\n",
    "from sklearn.feature_extraction.text import CountVectorizer\n",
    "vectorizer=CountVectorizer()\n",
    "train_X_vector=vectorizer.fit_transform(train_X)\n",
    "test_X_vector=vectorizer.transform(test_X)\n",
    "#print(test_X_vector[0])\n"
   ]
  },
  {
   "cell_type": "code",
   "execution_count": 166,
   "metadata": {},
   "outputs": [
    {
     "data": {
      "text/plain": [
       "0.8172727272727273"
      ]
     },
     "execution_count": 166,
     "metadata": {},
     "output_type": "execute_result"
    }
   ],
   "source": [
    "#SVM classifier\n",
    "from sklearn import svm\n",
    "from sklearn.metrics import accuracy_score\n",
    "\n",
    "\n",
    "model=svm.SVC(kernel='linear')\n",
    "model.fit(train_X_vector,train_y)\n",
    "#test_X_vector[0]\n",
    "model.predict(test_X_vector)\n",
    "p=model.predict(test_X_vector)\n",
    "#accuracy\n",
    "\n",
    "accuracy=accuracy_score(test_y,p)\n",
    "accuracy\n",
    "\n"
   ]
  },
  {
   "cell_type": "code",
   "execution_count": 260,
   "metadata": {},
   "outputs": [
    {
     "name": "stdout",
     "output_type": "stream",
     "text": [
      "['POSITIVE']\n"
     ]
    },
    {
     "data": {
      "text/plain": [
       "0.6713615023474179"
      ]
     },
     "execution_count": 260,
     "metadata": {},
     "output_type": "execute_result"
    }
   ],
   "source": [
    "###Decition tree classifire\n",
    "\n",
    "from sklearn.tree import DecisionTreeClassifier\n",
    "model_dt=DecisionTreeClassifier()\n",
    "model_dt.fit(train_X_vector,train_y)\n",
    "print(model_dt.predict(test_X_vector[0]))\n",
    "    \n",
    "#accuracy\n",
    "model_dt.predict(test_X_vector)\n",
    "p=model_dt.predict(test_X_vector)\n",
    "\n",
    "accuracy=accuracy_score(test_y,p)\n",
    "accuracy\n",
    "\n",
    "\n"
   ]
  },
  {
   "cell_type": "code",
   "execution_count": 303,
   "metadata": {},
   "outputs": [
    {
     "name": "stdout",
     "output_type": "stream",
     "text": [
      "['NEGATIVE' 'POSITIVE' 'NEGATIVE' 'NEGATIVE']\n"
     ]
    }
   ],
   "source": [
    "#Model Test\n",
    " #svm classifier\n",
    "\n",
    "test_review=vectorizer.transform([\"not great\",\"great book\",\"waste of time\",\"do not buy this book, waste of time\"])\n",
    "print(model_dt.predict(test_review))\n",
    "\n",
    "\n",
    "        \n",
    "        \n",
    "        "
   ]
  },
  {
   "cell_type": "code",
   "execution_count": null,
   "metadata": {},
   "outputs": [],
   "source": []
  }
 ],
 "metadata": {
  "kernelspec": {
   "display_name": "Python 3",
   "language": "python",
   "name": "python3"
  },
  "language_info": {
   "codemirror_mode": {
    "name": "ipython",
    "version": 3
   },
   "file_extension": ".py",
   "mimetype": "text/x-python",
   "name": "python",
   "nbconvert_exporter": "python",
   "pygments_lexer": "ipython3",
   "version": "3.8.3"
  }
 },
 "nbformat": 4,
 "nbformat_minor": 4
}
